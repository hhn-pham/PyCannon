{
 "cells": [
  {
   "cell_type": "markdown",
   "id": "clean-channels",
   "metadata": {},
   "source": [
    "# **Ballistic simulation**\n",
    "## Required libraries"
   ]
  },
  {
   "cell_type": "code",
   "execution_count": 4,
   "id": "civil-pitch",
   "metadata": {},
   "outputs": [],
   "source": [
    "import sympy as sp\n",
    "import matplotlib.pyplot as plt\n",
    "import numpy as np\n",
    "import math\n",
    "from vpython import *"
   ]
  },
  {
   "cell_type": "code",
   "execution_count": 5,
   "id": "further-compact",
   "metadata": {},
   "outputs": [],
   "source": [
    "#EULER-RICHARDSON METHOD ---- 2 Dimensional\n",
    "\n",
    "def dragModelER(vLaunch,theta,vWindx,vWindy,mass):\n",
    "    #steps\n",
    "    N = 12000\n",
    "\n",
    "    #define delta T and constants\n",
    "    timeTaken = 1000\n",
    "    deltaT = timeTaken/N\n",
    "    g = 10\n",
    "    uT = (mass*g/0.1)**(1/2)\n",
    "\n",
    "    #create empty arrays with initial conditions\n",
    "    Z = np.ones(N)\n",
    "    X = np.zeros(N)\n",
    "    Y = np.zeros(N)\n",
    "    T = np.zeros(N)\n",
    "    Vz = np.zeros(N)\n",
    "    Vx = np.zeros(N)\n",
    "    Vy = np.zeros(N)\n",
    "\n",
    "    X[0] = 0\n",
    "    Vx[0] = vLaunch*np.cos(math.radians(theta))\n",
    "    Y[0] = 0\n",
    "    Vy[0] = 0\n",
    "    Z[0] = 0\n",
    "    Vz[0] = vLaunch*np.sin(math.radians(theta))\n",
    "    T[0] = 0\n",
    "    i = 0\n",
    "\n",
    "    #index arrays\n",
    "    while (Z[i] >= 0):\n",
    "        i = i + 1\n",
    "        T[i]  = i*deltaT\n",
    "        modVelocity = ((Vx[i-1] - vWindx)**2 + (Vy[i-1] - vWindy)**2 + Vz[i-1]**2)**(1/2)\n",
    "        ax =  -(g/uT**2)*modVelocity*(Vx[i-1] - vWindx)\n",
    "        ay =  -(g/uT**2)*modVelocity*(Vy[i-1] - vWindy)                  \n",
    "        az =  -(g + (g/uT**2)*modVelocity*Vz[i-1])\n",
    "        vxMid = Vx[i-1] + 0.5*deltaT*ax\n",
    "        vyMid = Vy[i-1] + 0.5*deltaT*ay\n",
    "        vzMid = Vz[i-1] + 0.5*deltaT*az\n",
    "        axMid = -(g/uT**2)*modVelocity*(vxMid - vWindx)\n",
    "        ayMid = -(g/uT**2)*modVelocity*(vyMid - vWindy)\n",
    "        azMid = -(g + (g/uT**2)*modVelocity*vzMid)\n",
    "        X[i] = X[i-1] + vxMid*deltaT\n",
    "        Y[i] = Y[i-1] + vyMid*deltaT\n",
    "        Z[i] = Z[i-1] + vzMid*deltaT\n",
    "        Vx[i] = Vx[i-1] + axMid*deltaT\n",
    "        Vy[i] = Vy[i-1] + ayMid*deltaT\n",
    "        Vz[i] = Vz[i-1] + azMid*deltaT\n",
    "    return T, Vx, Vy, Vz, X, Y, Z, i"
   ]
  },
  {
   "cell_type": "code",
   "execution_count": 7,
   "id": "lonely-receptor",
   "metadata": {},
   "outputs": [
    {
     "data": {
      "text/html": [
       "<div id=\"glowscript\" class=\"glowscript\"></div>"
      ],
      "text/plain": [
       "<IPython.core.display.HTML object>"
      ]
     },
     "metadata": {},
     "output_type": "display_data"
    },
    {
     "data": {
      "application/javascript": [
       "if (typeof Jupyter !== \"undefined\") { window.__context = { glowscript_container: $(\"#glowscript\").removeAttr(\"id\")};}else{ element.textContent = ' ';}"
      ],
      "text/plain": [
       "<IPython.core.display.Javascript object>"
      ]
     },
     "metadata": {},
     "output_type": "display_data"
    }
   ],
   "source": [
    "T, Vx, Vy, Vz, X, Y, Z, i = dragModelER(240,70,20,20,10)\n",
    "scene = canvas(autoscale = True, width=X[i] + Y[i] + 100, height=Z[i] + 500, center=vector(0,0,-Z[i]-250), background=color.white, forward=vector(0,1,0), up=vector(0,0,1))\n",
    "ground = box(pos=vector(0,0,-(Z[i] + 500 + X[i]/1000)), size=vector(X[i] + 100,Y[i]*2 + 100,10), color=color.cyan)\n",
    "projectile = sphere(canvas = scene, pos=vector(-X[i]/2,0,-(Z[i] + 500)), radius=X[i]/100, color=color.red, make_trail=True)\n",
    "\n",
    "for j in range(0,i):\n",
    "    rate(i/T[i])\n",
    "    projectile.pos.x = X[j] - X[i]/2\n",
    "    projectile.pos.y = Y[j]\n",
    "    projectile.pos.z = Z[j] - (Z[i] + 500)\n",
    "\n",
    "projectile.visible = False\n",
    "del projectile\n",
    "    \n",
    "#plt.xlabel(r'$x$ / m')\n",
    "#plt.ylabel(r'$z$ / m')\n",
    "#plt.title('Trajectory in the x-z plane')\n",
    "#plt.plot(X[0:i], Z[0:i], c=\"coral\", linewidth=2)\n",
    "#plt.show()"
   ]
  },
  {
   "cell_type": "code",
   "execution_count": null,
   "id": "administrative-spring",
   "metadata": {},
   "outputs": [],
   "source": []
  }
 ],
 "metadata": {
  "kernelspec": {
   "display_name": "VPython",
   "language": "python",
   "name": "vpython"
  },
  "language_info": {
   "codemirror_mode": {
    "name": "ipython",
    "version": 3
   },
   "file_extension": ".py",
   "mimetype": "text/x-python",
   "name": "python",
   "nbconvert_exporter": "python",
   "pygments_lexer": "ipython3",
   "version": "3.7.3"
  }
 },
 "nbformat": 4,
 "nbformat_minor": 5
}
